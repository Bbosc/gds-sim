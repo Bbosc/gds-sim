{
 "cells": [
  {
   "cell_type": "code",
   "execution_count": null,
   "metadata": {},
   "outputs": [],
   "source": [
    "import numpy as np\n",
    "import matplotlib.pyplot as plt\n",
    "import pandas as pd\n",
    "import json"
   ]
  },
  {
   "cell_type": "code",
   "execution_count": null,
   "metadata": {},
   "outputs": [],
   "source": [
    "run_id = 1\n",
    "env_id = 4\n",
    "file = f'Figures/environment{env_id}/run{run_id}-angle-tracking.csv'\n",
    "data = pd.read_csv(file, header=None)\n",
    "\n",
    "with open(f'../config/environment{env_id}.json', 'r') as file:\n",
    "    config = json.load(file)\n",
    "angle_ref = np.array([a*np.pi/180 for a in config['attractor']])\n",
    "\n",
    "trackers = data.to_numpy().reshape((-1, 7))\n",
    "references = np.tile(angle_ref, (trackers.shape[0], 1))"
   ]
  },
  {
   "cell_type": "markdown",
   "metadata": {},
   "source": [
    "# Joint positions"
   ]
  },
  {
   "cell_type": "code",
   "execution_count": null,
   "metadata": {},
   "outputs": [],
   "source": [
    "for i in range(7):\n",
    "    fig = plt.figure()\n",
    "    ax = fig.add_subplot()\n",
    "    ax.plot(range(references.shape[0]), references[:, i], '--', label=rf'$q_{i}^\\ast$')\n",
    "    ax.plot(range(trackers.shape[0]), trackers[:, i], label=rf'$q_{i}$')\n",
    "    ax.set_ylabel(r'angle $(rad)$')\n",
    "    ax.set_xlabel('timestep')\n",
    "    ax.set_ylim([-np.pi, np.pi])\n",
    "    plt.legend()\n",
    "    fig.savefig(f'Figures/environment{env_id}/pics/angle-tracking-{i+1}.png')\n",
    "    # plt.show()"
   ]
  },
  {
   "cell_type": "markdown",
   "metadata": {},
   "source": [
    "# Joint accelerations"
   ]
  },
  {
   "cell_type": "code",
   "execution_count": null,
   "metadata": {},
   "outputs": [],
   "source": [
    "input_file = f'Figures/environment{env_id}/run{run_id}-accel-input.csv'\n",
    "output_file = f'Figures/environment{env_id}/run{run_id}-accel-output.csv'\n",
    "input_data = pd.read_csv(input_file, header=None)\n",
    "output_data = pd.read_csv(output_file, header=None)\n",
    "\n",
    "references = input_data.to_numpy().reshape((-1, 7))\n",
    "trackers = output_data.to_numpy().reshape((-1, 7))"
   ]
  },
  {
   "cell_type": "code",
   "execution_count": null,
   "metadata": {},
   "outputs": [],
   "source": [
    "for i in range(7):\n",
    "    fig = plt.figure()\n",
    "    ax = fig.add_subplot()\n",
    "    ax.plot(range(references.shape[0]), references[:, i], '--', label=rf'$\\ddot q_{i}^\\ast$')\n",
    "    ax.plot(range(trackers.shape[0]), trackers[:, i], label=rf'$\\ddot q_{i}$')\n",
    "    ax.set_ylabel(r'acceleration $(rad.s^{-2})$')\n",
    "    ax.set_xlabel('timestep')\n",
    "    ax.set_ylim([-np.pi, np.pi])\n",
    "    plt.legend()\n",
    "    fig.savefig(f'Figures/environment{env_id}/pics/accel-tracking-{i+1}.png')\n",
    "    # plt.show()"
   ]
  },
  {
   "cell_type": "markdown",
   "metadata": {},
   "source": [
    "# Torques"
   ]
  },
  {
   "cell_type": "code",
   "execution_count": null,
   "metadata": {},
   "outputs": [],
   "source": [
    "run_id = 1\n",
    "file = f'Figures/environment{env_id}/run{run_id}-torque.csv'\n",
    "data = pd.read_csv(file, header=None)\n",
    "\n",
    "torques = data.to_numpy().reshape((-1, 7))"
   ]
  },
  {
   "cell_type": "code",
   "execution_count": null,
   "metadata": {},
   "outputs": [],
   "source": [
    "fig = plt.figure()\n",
    "ax = fig.add_subplot()\n",
    "for i in range(7):\n",
    "    ax.plot(range(torques.shape[0]), torques[:, i], label=rf'$\\tau_{i}$')\n",
    "ax.set_ylabel(r'torque $(N.m)$')\n",
    "ax.set_xlabel('timestep')\n",
    "plt.legend()\n",
    "plt.show()"
   ]
  },
  {
   "cell_type": "markdown",
   "metadata": {},
   "source": [
    "# Velocities"
   ]
  },
  {
   "cell_type": "code",
   "execution_count": null,
   "metadata": {},
   "outputs": [],
   "source": [
    "run_id = 1\n",
    "file = f'Figures/environment{env_id}/run{run_id}-velocity-tracking.csv'\n",
    "data = pd.read_csv(file, header=None)\n",
    "\n",
    "torques = data.to_numpy().reshape((-1, 7))"
   ]
  },
  {
   "cell_type": "code",
   "execution_count": null,
   "metadata": {},
   "outputs": [],
   "source": [
    "fig = plt.figure()\n",
    "ax = fig.add_subplot()\n",
    "for i in range(7):\n",
    "    ax.plot(range(torques.shape[0]), torques[:, i], label=rf'$\\dot q_{i}$')\n",
    "ax.set_ylabel(r'velocity $(rad.s^{-1})$')\n",
    "ax.set_xlabel('timestep')\n",
    "plt.legend()\n",
    "fig.savefig(f'Figures/environment{env_id}/pics/velocities.png')\n",
    "plt.show()"
   ]
  },
  {
   "cell_type": "code",
   "execution_count": null,
   "metadata": {},
   "outputs": [],
   "source": []
  }
 ],
 "metadata": {
  "kernelspec": {
   "display_name": "pdm",
   "language": "python",
   "name": "python3"
  },
  "language_info": {
   "codemirror_mode": {
    "name": "ipython",
    "version": 3
   },
   "file_extension": ".py",
   "mimetype": "text/x-python",
   "name": "python",
   "nbconvert_exporter": "python",
   "pygments_lexer": "ipython3",
   "version": "3.10.13"
  }
 },
 "nbformat": 4,
 "nbformat_minor": 2
}
